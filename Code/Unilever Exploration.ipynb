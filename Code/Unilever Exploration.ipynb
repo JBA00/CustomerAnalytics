{
 "cells": [
  {
   "cell_type": "code",
   "execution_count": 179,
   "metadata": {},
   "outputs": [],
   "source": [
    "import pandas as pd\n",
    "import matplotlib.pyplot as plt\n",
    "import seaborn as sns\n",
    "import os\n"
   ]
  },
  {
   "cell_type": "code",
   "execution_count": 180,
   "metadata": {},
   "outputs": [
    {
     "name": "stdout",
     "output_type": "stream",
     "text": [
      "/Users/joaquinmartinezsosa/Desktop/University/BAM/Customer Analytics/Unilever\n"
     ]
    }
   ],
   "source": [
    "# Set the working directory\n",
    "os.chdir('/Users/joaquinmartinezsosa/Desktop/University/BAM/Customer Analytics/Unilever')\n",
    "\n",
    "# Confirm the working directory\n",
    "print(os.getcwd())\n"
   ]
  },
  {
   "cell_type": "code",
   "execution_count": 181,
   "metadata": {},
   "outputs": [],
   "source": [
    "\n",
    "# Load Sales data\n",
    "amazon_reviews = pd.read_csv(os.path.join(os.getcwd(), 'Amazon_categories_final_clean.csv'))\n"
   ]
  },
  {
   "cell_type": "markdown",
   "metadata": {},
   "source": [
    "## General"
   ]
  },
  {
   "cell_type": "markdown",
   "metadata": {},
   "source": [
    "### How many ratings per product\n"
   ]
  },
  {
   "cell_type": "code",
   "execution_count": 182,
   "metadata": {},
   "outputs": [],
   "source": [
    "number_ratings_per_product = amazon_reviews.groupby('product_name')['Rating'].count().reset_index()"
   ]
  },
  {
   "cell_type": "code",
   "execution_count": 183,
   "metadata": {},
   "outputs": [
    {
     "data": {
      "text/html": [
       "<div>\n",
       "<style scoped>\n",
       "    .dataframe tbody tr th:only-of-type {\n",
       "        vertical-align: middle;\n",
       "    }\n",
       "\n",
       "    .dataframe tbody tr th {\n",
       "        vertical-align: top;\n",
       "    }\n",
       "\n",
       "    .dataframe thead th {\n",
       "        text-align: right;\n",
       "    }\n",
       "</style>\n",
       "<table border=\"1\" class=\"dataframe\">\n",
       "  <thead>\n",
       "    <tr style=\"text-align: right;\">\n",
       "      <th></th>\n",
       "      <th>product_name</th>\n",
       "      <th>Rating</th>\n",
       "    </tr>\n",
       "  </thead>\n",
       "  <tbody>\n",
       "    <tr>\n",
       "      <th>0</th>\n",
       "      <td>Hellmann's  BBQ Sauce intensive und würzige Gr...</td>\n",
       "      <td>2</td>\n",
       "    </tr>\n",
       "    <tr>\n",
       "      <th>1</th>\n",
       "      <td>Hellmann's  Cheese Style Sauce leckere Grillsa...</td>\n",
       "      <td>4</td>\n",
       "    </tr>\n",
       "    <tr>\n",
       "      <th>2</th>\n",
       "      <td>Hellmann's  Cheese Style Sauce leckere Grillsa...</td>\n",
       "      <td>23</td>\n",
       "    </tr>\n",
       "    <tr>\n",
       "      <th>3</th>\n",
       "      <td>Hellmann's  Ketjap</td>\n",
       "      <td>1</td>\n",
       "    </tr>\n",
       "    <tr>\n",
       "      <th>4</th>\n",
       "      <td>Hellmann's  REAL Salat Mayo leckere Salat Mayo...</td>\n",
       "      <td>74</td>\n",
       "    </tr>\n",
       "  </tbody>\n",
       "</table>\n",
       "</div>"
      ],
      "text/plain": [
       "                                        product_name  Rating\n",
       "0  Hellmann's  BBQ Sauce intensive und würzige Gr...       2\n",
       "1  Hellmann's  Cheese Style Sauce leckere Grillsa...       4\n",
       "2  Hellmann's  Cheese Style Sauce leckere Grillsa...      23\n",
       "3                                 Hellmann's  Ketjap       1\n",
       "4  Hellmann's  REAL Salat Mayo leckere Salat Mayo...      74"
      ]
     },
     "execution_count": 183,
     "metadata": {},
     "output_type": "execute_result"
    }
   ],
   "source": [
    "number_ratings_per_product.head()"
   ]
  },
  {
   "cell_type": "code",
   "execution_count": 184,
   "metadata": {},
   "outputs": [
    {
     "data": {
      "text/html": [
       "<div>\n",
       "<style scoped>\n",
       "    .dataframe tbody tr th:only-of-type {\n",
       "        vertical-align: middle;\n",
       "    }\n",
       "\n",
       "    .dataframe tbody tr th {\n",
       "        vertical-align: top;\n",
       "    }\n",
       "\n",
       "    .dataframe thead th {\n",
       "        text-align: right;\n",
       "    }\n",
       "</style>\n",
       "<table border=\"1\" class=\"dataframe\">\n",
       "  <thead>\n",
       "    <tr style=\"text-align: right;\">\n",
       "      <th></th>\n",
       "      <th>Rating</th>\n",
       "    </tr>\n",
       "  </thead>\n",
       "  <tbody>\n",
       "    <tr>\n",
       "      <th>count</th>\n",
       "      <td>380.000000</td>\n",
       "    </tr>\n",
       "    <tr>\n",
       "      <th>mean</th>\n",
       "      <td>35.021053</td>\n",
       "    </tr>\n",
       "    <tr>\n",
       "      <th>std</th>\n",
       "      <td>62.651186</td>\n",
       "    </tr>\n",
       "    <tr>\n",
       "      <th>min</th>\n",
       "      <td>1.000000</td>\n",
       "    </tr>\n",
       "    <tr>\n",
       "      <th>25%</th>\n",
       "      <td>2.000000</td>\n",
       "    </tr>\n",
       "    <tr>\n",
       "      <th>50%</th>\n",
       "      <td>8.500000</td>\n",
       "    </tr>\n",
       "    <tr>\n",
       "      <th>75%</th>\n",
       "      <td>43.000000</td>\n",
       "    </tr>\n",
       "    <tr>\n",
       "      <th>max</th>\n",
       "      <td>621.000000</td>\n",
       "    </tr>\n",
       "  </tbody>\n",
       "</table>\n",
       "</div>"
      ],
      "text/plain": [
       "           Rating\n",
       "count  380.000000\n",
       "mean    35.021053\n",
       "std     62.651186\n",
       "min      1.000000\n",
       "25%      2.000000\n",
       "50%      8.500000\n",
       "75%     43.000000\n",
       "max    621.000000"
      ]
     },
     "execution_count": 184,
     "metadata": {},
     "output_type": "execute_result"
    }
   ],
   "source": [
    "number_ratings_per_product.describe()"
   ]
  },
  {
   "cell_type": "markdown",
   "metadata": {},
   "source": [
    "More than half of the products have less than 9 reviews\n"
   ]
  },
  {
   "cell_type": "code",
   "execution_count": 185,
   "metadata": {},
   "outputs": [],
   "source": [
    "# Remove all products that have less than 9 reviews (below median)\n",
    "q2 = number_ratings_per_product['Rating'].quantile(0.5)\n",
    "subset_first_two_quartiles = number_ratings_per_product[number_ratings_per_product['Rating'] >= q2]\n",
    "\n",
    "\n",
    "amazon_reviews_more_than_8_reviews = amazon_reviews[amazon_reviews['product_name'].isin(subset_first_two_quartiles['product_name'])]"
   ]
  },
  {
   "cell_type": "code",
   "execution_count": 186,
   "metadata": {},
   "outputs": [
    {
     "name": "stdout",
     "output_type": "stream",
     "text": [
      "Length of Amazon Reviews: 13308       \n",
      "Length of Amazon Reviews with > 8 reviews: 12757\n"
     ]
    }
   ],
   "source": [
    "print(f'Length of Amazon Reviews: {len(amazon_reviews)} \\\n",
    "      \\nLength of Amazon Reviews with > 8 reviews: {len(amazon_reviews_more_than_8_reviews)}')"
   ]
  },
  {
   "cell_type": "code",
   "execution_count": 187,
   "metadata": {},
   "outputs": [],
   "source": [
    "# Testing if it worked\n",
    "#       post_number_ratings_per_product = amazon_reviews_more_than_8_reviews.groupby('product_name')['Rating'].count().reset_index()\n",
    "#       post_number_ratings_per_product.describe()"
   ]
  },
  {
   "cell_type": "markdown",
   "metadata": {},
   "source": [
    "## Ratings Analysis"
   ]
  },
  {
   "cell_type": "markdown",
   "metadata": {},
   "source": [
    "### Avg Rating per Product"
   ]
  },
  {
   "cell_type": "code",
   "execution_count": 188,
   "metadata": {},
   "outputs": [
    {
     "data": {
      "text/html": [
       "<div>\n",
       "<style scoped>\n",
       "    .dataframe tbody tr th:only-of-type {\n",
       "        vertical-align: middle;\n",
       "    }\n",
       "\n",
       "    .dataframe tbody tr th {\n",
       "        vertical-align: top;\n",
       "    }\n",
       "\n",
       "    .dataframe thead th {\n",
       "        text-align: right;\n",
       "    }\n",
       "</style>\n",
       "<table border=\"1\" class=\"dataframe\">\n",
       "  <thead>\n",
       "    <tr style=\"text-align: right;\">\n",
       "      <th></th>\n",
       "      <th>product_name</th>\n",
       "      <th>Rating</th>\n",
       "    </tr>\n",
       "  </thead>\n",
       "  <tbody>\n",
       "    <tr>\n",
       "      <th>0</th>\n",
       "      <td>Knorr Sauce Béarnaise 250ml 250ml</td>\n",
       "      <td>3.500000</td>\n",
       "    </tr>\n",
       "    <tr>\n",
       "      <th>1</th>\n",
       "      <td>Knorr Sauce Béarnaise 250ml 250ml</td>\n",
       "      <td>3.000000</td>\n",
       "    </tr>\n",
       "    <tr>\n",
       "      <th>2</th>\n",
       "      <td>Knorr Sauce Béarnaise 250ml 250ml</td>\n",
       "      <td>3.260870</td>\n",
       "    </tr>\n",
       "    <tr>\n",
       "      <th>3</th>\n",
       "      <td>Knorr Sauce Béarnaise 250ml 250ml</td>\n",
       "      <td>5.000000</td>\n",
       "    </tr>\n",
       "    <tr>\n",
       "      <th>4</th>\n",
       "      <td>Knorr Sauce Béarnaise 250ml 250ml</td>\n",
       "      <td>4.202703</td>\n",
       "    </tr>\n",
       "  </tbody>\n",
       "</table>\n",
       "</div>"
      ],
      "text/plain": [
       "                        product_name    Rating\n",
       "0  Knorr Sauce Béarnaise 250ml 250ml  3.500000\n",
       "1  Knorr Sauce Béarnaise 250ml 250ml  3.000000\n",
       "2  Knorr Sauce Béarnaise 250ml 250ml  3.260870\n",
       "3  Knorr Sauce Béarnaise 250ml 250ml  5.000000\n",
       "4  Knorr Sauce Béarnaise 250ml 250ml  4.202703"
      ]
     },
     "execution_count": 188,
     "metadata": {},
     "output_type": "execute_result"
    }
   ],
   "source": [
    "avg_rating_per_product = amazon_reviews.groupby('product_name')['Rating'].mean().reset_index()\n",
    "avg_rating_per_product['product_name'] = amazon_reviews['product_name'].astype('category')\n",
    "avg_rating_per_product.head()\n"
   ]
  },
  {
   "cell_type": "code",
   "execution_count": 189,
   "metadata": {},
   "outputs": [
    {
     "name": "stderr",
     "output_type": "stream",
     "text": [
      "/var/folders/bs/7jrmr7lx3qgdc1wgj87n85wc0000gn/T/ipykernel_67034/2589296104.py:7: FutureWarning: \n",
      "\n",
      "Passing `palette` without assigning `hue` is deprecated and will be removed in v0.14.0. Assign the `x` variable to `hue` and set `legend=False` for the same effect.\n",
      "\n",
      "  plot = sns.barplot(x='product_name', y='Rating', data=avg_rating_per_product_sorted, palette=\"viridis\",\n"
     ]
    },
    {
     "data": {
      "image/png": "[encoded data removed]",
      "text/plain": [
       "<Figure size 1200x600 with 1 Axes>"
      ]
     },
     "metadata": {},
     "output_type": "display_data"
    }
   ],
   "source": [
    "# Assuming avg_rating_per_product is your DataFrame\n",
    "# Sort the DataFrame by 'Rating' in ascending order\n",
    "avg_rating_per_product_sorted = avg_rating_per_product.sort_values(by='Rating')\n",
    "\n",
    "# Create the bar plot\n",
    "plt.figure(figsize=(12, 6))\n",
    "plot = sns.barplot(x='product_name', y='Rating', data=avg_rating_per_product_sorted, palette=\"viridis\",\n",
    "                   order=avg_rating_per_product_sorted['product_name'])\n",
    "\n",
    "# Remove x-axis labels\n",
    "plt.xticks([])\n",
    "\n",
    "# Remove y-axis label\n",
    "plot.set(ylabel=None)\n",
    "\n",
    "# Add title\n",
    "plt.title('Average Rating per Product (Ordered by Rating)')\n",
    "\n",
    "# Show plot\n",
    "plt.tight_layout()\n",
    "plt.show()"
   ]
  },
  {
   "cell_type": "markdown",
   "metadata": {},
   "source": [
    "### Proportion of 1 and 5 Star Ratings per Product"
   ]
  },
  {
   "cell_type": "code",
   "execution_count": 191,
   "metadata": {},
   "outputs": [],
   "source": [
    "# Find percent of ratings that are 1s and percent that are 5s\n",
    "def finding_proportion_of_ones(group):\n",
    "    count_ratings = len(group)\n",
    "    count_ones = len(group[group['Rating'] == 1.0])\n",
    "    \n",
    "    proportion_ones = count_ones / count_ratings\n",
    "    return proportion_ones\n",
    "\n",
    "def finding_proportion_of_fives(group):\n",
    "    count_ratings = len(group)\n",
    "    count_fives = len(group[group['Rating'] == 5.0])\n",
    "    \n",
    "    proportion_fives = count_fives / count_ratings\n",
    "    return proportion_fives\n"
   ]
  },
  {
   "cell_type": "code",
   "execution_count": 195,
   "metadata": {},
   "outputs": [],
   "source": [
    "proportional_ratings_per_product_ones = amazon_reviews_more_than_8_reviews.groupby('product_name').apply(finding_proportion_of_ones).reset_index()\n",
    "proportional_ratings_per_product_fives = amazon_reviews_more_than_8_reviews.groupby('product_name').apply(finding_proportion_of_fives).reset_index()\n",
    "proportional_ratings_per_product = pd.merge(proportional_ratings_per_product_ones,proportional_ratings_per_product_fives, on ='product_name', how = 'inner')"
   ]
  },
  {
   "cell_type": "code",
   "execution_count": 196,
   "metadata": {},
   "outputs": [
    {
     "data": {
      "text/html": [
       "<div>\n",
       "<style scoped>\n",
       "    .dataframe tbody tr th:only-of-type {\n",
       "        vertical-align: middle;\n",
       "    }\n",
       "\n",
       "    .dataframe tbody tr th {\n",
       "        vertical-align: top;\n",
       "    }\n",
       "\n",
       "    .dataframe thead th {\n",
       "        text-align: right;\n",
       "    }\n",
       "</style>\n",
       "<table border=\"1\" class=\"dataframe\">\n",
       "  <thead>\n",
       "    <tr style=\"text-align: right;\">\n",
       "      <th></th>\n",
       "      <th>0_x</th>\n",
       "      <th>0_y</th>\n",
       "    </tr>\n",
       "  </thead>\n",
       "  <tbody>\n",
       "    <tr>\n",
       "      <th>count</th>\n",
       "      <td>190.000000</td>\n",
       "      <td>190.000000</td>\n",
       "    </tr>\n",
       "    <tr>\n",
       "      <th>mean</th>\n",
       "      <td>0.073218</td>\n",
       "      <td>0.550113</td>\n",
       "    </tr>\n",
       "    <tr>\n",
       "      <th>std</th>\n",
       "      <td>0.064939</td>\n",
       "      <td>0.159490</td>\n",
       "    </tr>\n",
       "    <tr>\n",
       "      <th>min</th>\n",
       "      <td>0.000000</td>\n",
       "      <td>0.147059</td>\n",
       "    </tr>\n",
       "    <tr>\n",
       "      <th>25%</th>\n",
       "      <td>0.030090</td>\n",
       "      <td>0.440169</td>\n",
       "    </tr>\n",
       "    <tr>\n",
       "      <th>50%</th>\n",
       "      <td>0.058824</td>\n",
       "      <td>0.565217</td>\n",
       "    </tr>\n",
       "    <tr>\n",
       "      <th>75%</th>\n",
       "      <td>0.096957</td>\n",
       "      <td>0.665966</td>\n",
       "    </tr>\n",
       "    <tr>\n",
       "      <th>max</th>\n",
       "      <td>0.333333</td>\n",
       "      <td>0.950000</td>\n",
       "    </tr>\n",
       "  </tbody>\n",
       "</table>\n",
       "</div>"
      ],
      "text/plain": [
       "              0_x         0_y\n",
       "count  190.000000  190.000000\n",
       "mean     0.073218    0.550113\n",
       "std      0.064939    0.159490\n",
       "min      0.000000    0.147059\n",
       "25%      0.030090    0.440169\n",
       "50%      0.058824    0.565217\n",
       "75%      0.096957    0.665966\n",
       "max      0.333333    0.950000"
      ]
     },
     "execution_count": 196,
     "metadata": {},
     "output_type": "execute_result"
    }
   ],
   "source": [
    "proportional_ratings_per_product.describe()"
   ]
  },
  {
   "cell_type": "code",
   "execution_count": 202,
   "metadata": {},
   "outputs": [
    {
     "data": {
      "text/plain": [
       "\"Hellmann's  Sauce mit Knoblauchnote ideal zum Dippen und Verfeinern beim Barbecue vegetarisch 8x 250 ml\""
      ]
     },
     "execution_count": 202,
     "metadata": {},
     "output_type": "execute_result"
    }
   ],
   "source": [
    "proportional_ratings_per_product.iloc[3,]['product_name']"
   ]
  },
  {
   "cell_type": "code",
   "execution_count": 205,
   "metadata": {},
   "outputs": [
    {
     "data": {
      "text/html": [
       "<div>\n",
       "<style scoped>\n",
       "    .dataframe tbody tr th:only-of-type {\n",
       "        vertical-align: middle;\n",
       "    }\n",
       "\n",
       "    .dataframe tbody tr th {\n",
       "        vertical-align: top;\n",
       "    }\n",
       "\n",
       "    .dataframe thead th {\n",
       "        text-align: right;\n",
       "    }\n",
       "</style>\n",
       "<table border=\"1\" class=\"dataframe\">\n",
       "  <thead>\n",
       "    <tr style=\"text-align: right;\">\n",
       "      <th></th>\n",
       "      <th>product_name</th>\n",
       "      <th>0_x</th>\n",
       "      <th>0_y</th>\n",
       "    </tr>\n",
       "  </thead>\n",
       "  <tbody>\n",
       "    <tr>\n",
       "      <th>0</th>\n",
       "      <td>Hellmann's  Cheese Style Sauce leckere Grillsa...</td>\n",
       "      <td>0.260870</td>\n",
       "      <td>0.260870</td>\n",
       "    </tr>\n",
       "    <tr>\n",
       "      <th>1</th>\n",
       "      <td>Hellmann's  REAL Salat Mayo leckere Salat Mayo...</td>\n",
       "      <td>0.094595</td>\n",
       "      <td>0.648649</td>\n",
       "    </tr>\n",
       "    <tr>\n",
       "      <th>2</th>\n",
       "      <td>Hellmann's  Real Mayonnaise ideal zum Verfeine...</td>\n",
       "      <td>0.068376</td>\n",
       "      <td>0.675214</td>\n",
       "    </tr>\n",
       "    <tr>\n",
       "      <th>3</th>\n",
       "      <td>Hellmann's  Sauce mit Knoblauchnote ideal zum ...</td>\n",
       "      <td>0.181818</td>\n",
       "      <td>0.363636</td>\n",
       "    </tr>\n",
       "    <tr>\n",
       "      <th>4</th>\n",
       "      <td>Hellmann's  Tomato Ketchup leckere Grillsauce ...</td>\n",
       "      <td>0.000000</td>\n",
       "      <td>0.680000</td>\n",
       "    </tr>\n",
       "  </tbody>\n",
       "</table>\n",
       "</div>"
      ],
      "text/plain": [
       "                                        product_name       0_x       0_y\n",
       "0  Hellmann's  Cheese Style Sauce leckere Grillsa...  0.260870  0.260870\n",
       "1  Hellmann's  REAL Salat Mayo leckere Salat Mayo...  0.094595  0.648649\n",
       "2  Hellmann's  Real Mayonnaise ideal zum Verfeine...  0.068376  0.675214\n",
       "3  Hellmann's  Sauce mit Knoblauchnote ideal zum ...  0.181818  0.363636\n",
       "4  Hellmann's  Tomato Ketchup leckere Grillsauce ...  0.000000  0.680000"
      ]
     },
     "execution_count": 205,
     "metadata": {},
     "output_type": "execute_result"
    }
   ],
   "source": [
    "proportional_ratings_per_product.head()"
   ]
  },
  {
   "cell_type": "markdown",
   "metadata": {},
   "source": []
  },
  {
   "cell_type": "code",
   "execution_count": null,
   "metadata": {},
   "outputs": [],
   "source": []
  },
  {
   "cell_type": "code",
   "execution_count": null,
   "metadata": {},
   "outputs": [],
   "source": []
  }
 ],
 "metadata": {
  "kernelspec": {
   "display_name": "Python 3",
   "language": "python",
   "name": "python3"
  },
  "language_info": {
   "codemirror_mode": {
    "name": "ipython",
    "version": 3
   },
   "file_extension": ".py",
   "mimetype": "text/x-python",
   "name": "python",
   "nbconvert_exporter": "python",
   "pygments_lexer": "ipython3",
   "version": "3.10.10"
  },
  "orig_nbformat": 4
 },
 "nbformat": 4,
 "nbformat_minor": 2
}
