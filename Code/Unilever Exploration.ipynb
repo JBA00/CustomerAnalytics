{
 "cells": [
  {
   "cell_type": "code",
   "execution_count": 75,
   "metadata": {},
   "outputs": [],
   "source": [
    "import pandas as pd\n",
    "import matplotlib.pyplot as plt\n",
    "import seaborn as sns\n",
    "import os\n"
   ]
  },
  {
   "cell_type": "code",
   "execution_count": 76,
   "metadata": {},
   "outputs": [
    {
     "name": "stdout",
     "output_type": "stream",
     "text": [
      "/Users/joaquinmartinezsosa/Desktop/University/BAM/Customer Analytics/Unilever\n"
     ]
    }
   ],
   "source": [
    "# Set the working directory\n",
    "os.chdir('/Users/joaquinmartinezsosa/Desktop/University/BAM/Customer Analytics/Unilever')\n",
    "\n",
    "# Confirm the working directory\n",
    "print(os.getcwd())\n"
   ]
  },
  {
   "cell_type": "code",
   "execution_count": 77,
   "metadata": {},
   "outputs": [],
   "source": [
    "\n",
    "# Load Sales data\n",
    "amazon_reviews = pd.read_csv(os.path.join(os.getcwd(), 'Amazon_categories_final_clean.csv'))\n"
   ]
  },
  {
   "cell_type": "code",
   "execution_count": 78,
   "metadata": {},
   "outputs": [
    {
     "data": {
      "text/html": [
       "<div>\n",
       "<style scoped>\n",
       "    .dataframe tbody tr th:only-of-type {\n",
       "        vertical-align: middle;\n",
       "    }\n",
       "\n",
       "    .dataframe tbody tr th {\n",
       "        vertical-align: top;\n",
       "    }\n",
       "\n",
       "    .dataframe thead th {\n",
       "        text-align: right;\n",
       "    }\n",
       "</style>\n",
       "<table border=\"1\" class=\"dataframe\">\n",
       "  <thead>\n",
       "    <tr style=\"text-align: right;\">\n",
       "      <th></th>\n",
       "      <th>Unnamed: 0</th>\n",
       "      <th>Retailer</th>\n",
       "      <th>EAN_UPC</th>\n",
       "      <th>Product_name</th>\n",
       "      <th>Date</th>\n",
       "      <th>Text</th>\n",
       "      <th>Rating</th>\n",
       "      <th>Brand</th>\n",
       "      <th>GPT_estimated_cleaned</th>\n",
       "    </tr>\n",
       "  </thead>\n",
       "  <tbody>\n",
       "    <tr>\n",
       "      <th>0</th>\n",
       "      <td>1</td>\n",
       "      <td>Amazon_DE</td>\n",
       "      <td>4000400001429</td>\n",
       "      <td>Knorr Sauce Béarnaise 250ml 250ml</td>\n",
       "      <td>2021-01-19</td>\n",
       "      <td>wir konnten dieses produkt im rahmen von amazo...</td>\n",
       "      <td>5</td>\n",
       "      <td>Knorr</td>\n",
       "      <td>Sauces</td>\n",
       "    </tr>\n",
       "    <tr>\n",
       "      <th>1</th>\n",
       "      <td>2</td>\n",
       "      <td>Amazon_DE</td>\n",
       "      <td>4000400001429</td>\n",
       "      <td>Knorr Sauce Béarnaise 250ml 250ml</td>\n",
       "      <td>2021-01-23</td>\n",
       "      <td>eigentlich bin ich kein fan von fertigprodukte...</td>\n",
       "      <td>4</td>\n",
       "      <td>Knorr</td>\n",
       "      <td>Sauces</td>\n",
       "    </tr>\n",
       "    <tr>\n",
       "      <th>2</th>\n",
       "      <td>3</td>\n",
       "      <td>Amazon_DE</td>\n",
       "      <td>4000400001429</td>\n",
       "      <td>Knorr Sauce Béarnaise 250ml 250ml</td>\n",
       "      <td>2021-02-04</td>\n",
       "      <td>ich habe mit meiner packung zwei bleche pizza ...</td>\n",
       "      <td>4</td>\n",
       "      <td>Knorr</td>\n",
       "      <td>Sauces</td>\n",
       "    </tr>\n",
       "    <tr>\n",
       "      <th>3</th>\n",
       "      <td>4</td>\n",
       "      <td>Amazon_DE</td>\n",
       "      <td>4000400001429</td>\n",
       "      <td>Knorr Sauce Béarnaise 250ml 250ml</td>\n",
       "      <td>2021-02-12</td>\n",
       "      <td>tatsächlich habe ich bislang noch nie eine soß...</td>\n",
       "      <td>4</td>\n",
       "      <td>Knorr</td>\n",
       "      <td>Sauces</td>\n",
       "    </tr>\n",
       "    <tr>\n",
       "      <th>4</th>\n",
       "      <td>5</td>\n",
       "      <td>Amazon_DE</td>\n",
       "      <td>4000400001429</td>\n",
       "      <td>Knorr Sauce Béarnaise 250ml 250ml</td>\n",
       "      <td>2021-03-05</td>\n",
       "      <td>ich durfte von knorr die sauce bernaise testen...</td>\n",
       "      <td>4</td>\n",
       "      <td>Knorr</td>\n",
       "      <td>Sauces</td>\n",
       "    </tr>\n",
       "  </tbody>\n",
       "</table>\n",
       "</div>"
      ],
      "text/plain": [
       "   Unnamed: 0   Retailer        EAN_UPC                       Product_name  \\\n",
       "0           1  Amazon_DE  4000400001429  Knorr Sauce Béarnaise 250ml 250ml   \n",
       "1           2  Amazon_DE  4000400001429  Knorr Sauce Béarnaise 250ml 250ml   \n",
       "2           3  Amazon_DE  4000400001429  Knorr Sauce Béarnaise 250ml 250ml   \n",
       "3           4  Amazon_DE  4000400001429  Knorr Sauce Béarnaise 250ml 250ml   \n",
       "4           5  Amazon_DE  4000400001429  Knorr Sauce Béarnaise 250ml 250ml   \n",
       "\n",
       "         Date                                               Text  Rating  \\\n",
       "0  2021-01-19  wir konnten dieses produkt im rahmen von amazo...       5   \n",
       "1  2021-01-23  eigentlich bin ich kein fan von fertigprodukte...       4   \n",
       "2  2021-02-04  ich habe mit meiner packung zwei bleche pizza ...       4   \n",
       "3  2021-02-12  tatsächlich habe ich bislang noch nie eine soß...       4   \n",
       "4  2021-03-05  ich durfte von knorr die sauce bernaise testen...       4   \n",
       "\n",
       "   Brand GPT_estimated_cleaned  \n",
       "0  Knorr                Sauces  \n",
       "1  Knorr                Sauces  \n",
       "2  Knorr                Sauces  \n",
       "3  Knorr                Sauces  \n",
       "4  Knorr                Sauces  "
      ]
     },
     "execution_count": 78,
     "metadata": {},
     "output_type": "execute_result"
    }
   ],
   "source": [
    "amazon_reviews.head()"
   ]
  },
  {
   "cell_type": "markdown",
   "metadata": {},
   "source": [
    "## General"
   ]
  },
  {
   "cell_type": "markdown",
   "metadata": {},
   "source": [
    "### Filter Snacks and Soups"
   ]
  },
  {
   "cell_type": "code",
   "execution_count": 79,
   "metadata": {},
   "outputs": [
    {
     "data": {
      "text/plain": [
       "array(['Sauces', 'Fix Produkte', 'Brühen, Bouillons & Würzmittel',\n",
       "       'Die Bio Gemüse Bouillon', 'Grillsaucen, Ketchup & Mayo', 'Suppen',\n",
       "       nan, 'Salatzutaten', 'Snacks & Fertiggerichte',\n",
       "       'BBQ and Grilling Sauces', 'Mustard and Condiments',\n",
       "       'Specialty Sauces and Flavors',\n",
       "       'Mayonnaise, Mayo Alternatives, and Salad Dressings',\n",
       "       'Natürlich Lecker!', 'Ketchup and Tomato Products',\n",
       "       'Miscellaneous'], dtype=object)"
      ]
     },
     "execution_count": 79,
     "metadata": {},
     "output_type": "execute_result"
    }
   ],
   "source": [
    "amazon_reviews['GPT_estimated_cleaned'].unique()"
   ]
  },
  {
   "cell_type": "code",
   "execution_count": 80,
   "metadata": {},
   "outputs": [],
   "source": [
    "reviews_sauces_and_snacks = amazon_reviews[(amazon_reviews['GPT_estimated_cleaned'] == 'Sauces') | \\\n",
    "                                           (amazon_reviews['GPT_estimated_cleaned'] == 'Snacks & Fertiggerichte')]"
   ]
  },
  {
   "cell_type": "code",
   "execution_count": 81,
   "metadata": {},
   "outputs": [
    {
     "name": "stdout",
     "output_type": "stream",
     "text": [
      "Length of Amazon_Reviews: 68316        \n",
      "Length of Reviews after filtering: 13894\n"
     ]
    }
   ],
   "source": [
    "print(f'Length of Amazon_Reviews: {len(amazon_reviews)}\\\n",
    "        \\nLength of Reviews after filtering: {len(reviews_sauces_and_snacks)}')"
   ]
  },
  {
   "cell_type": "markdown",
   "metadata": {},
   "source": [
    "### How many ratings per product\n"
   ]
  },
  {
   "cell_type": "code",
   "execution_count": 82,
   "metadata": {},
   "outputs": [],
   "source": [
    "number_ratings_per_product = reviews_sauces_and_snacks.groupby('Product_name')['Rating'].count().reset_index()"
   ]
  },
  {
   "cell_type": "code",
   "execution_count": 83,
   "metadata": {},
   "outputs": [
    {
     "data": {
      "text/html": [
       "<div>\n",
       "<style scoped>\n",
       "    .dataframe tbody tr th:only-of-type {\n",
       "        vertical-align: middle;\n",
       "    }\n",
       "\n",
       "    .dataframe tbody tr th {\n",
       "        vertical-align: top;\n",
       "    }\n",
       "\n",
       "    .dataframe thead th {\n",
       "        text-align: right;\n",
       "    }\n",
       "</style>\n",
       "<table border=\"1\" class=\"dataframe\">\n",
       "  <thead>\n",
       "    <tr style=\"text-align: right;\">\n",
       "      <th></th>\n",
       "      <th>Product_name</th>\n",
       "      <th>Rating</th>\n",
       "    </tr>\n",
       "  </thead>\n",
       "  <tbody>\n",
       "    <tr>\n",
       "      <th>0</th>\n",
       "      <td>Knorr  Big Pot Pasta Snack Bolognese leckere I...</td>\n",
       "      <td>147</td>\n",
       "    </tr>\n",
       "    <tr>\n",
       "      <th>1</th>\n",
       "      <td>Knorr  Big Pot Pasta Snack Käse &amp; Sahne lecker...</td>\n",
       "      <td>34</td>\n",
       "    </tr>\n",
       "    <tr>\n",
       "      <th>2</th>\n",
       "      <td>Knorr  Big Pot Pasta Snack Käse &amp; Sahne lecker...</td>\n",
       "      <td>4</td>\n",
       "    </tr>\n",
       "    <tr>\n",
       "      <th>3</th>\n",
       "      <td>Knorr  Feinschmecker Champignon Sauce cremige ...</td>\n",
       "      <td>240</td>\n",
       "    </tr>\n",
       "    <tr>\n",
       "      <th>4</th>\n",
       "      <td>Knorr  Kartoffel Snack Fleischbällchen &amp; Röstz...</td>\n",
       "      <td>303</td>\n",
       "    </tr>\n",
       "  </tbody>\n",
       "</table>\n",
       "</div>"
      ],
      "text/plain": [
       "                                        Product_name  Rating\n",
       "0  Knorr  Big Pot Pasta Snack Bolognese leckere I...     147\n",
       "1  Knorr  Big Pot Pasta Snack Käse & Sahne lecker...      34\n",
       "2  Knorr  Big Pot Pasta Snack Käse & Sahne lecker...       4\n",
       "3  Knorr  Feinschmecker Champignon Sauce cremige ...     240\n",
       "4  Knorr  Kartoffel Snack Fleischbällchen & Röstz...     303"
      ]
     },
     "execution_count": 83,
     "metadata": {},
     "output_type": "execute_result"
    }
   ],
   "source": [
    "number_ratings_per_product.head()"
   ]
  },
  {
   "cell_type": "code",
   "execution_count": 84,
   "metadata": {},
   "outputs": [
    {
     "data": {
      "text/html": [
       "<div>\n",
       "<style scoped>\n",
       "    .dataframe tbody tr th:only-of-type {\n",
       "        vertical-align: middle;\n",
       "    }\n",
       "\n",
       "    .dataframe tbody tr th {\n",
       "        vertical-align: top;\n",
       "    }\n",
       "\n",
       "    .dataframe thead th {\n",
       "        text-align: right;\n",
       "    }\n",
       "</style>\n",
       "<table border=\"1\" class=\"dataframe\">\n",
       "  <thead>\n",
       "    <tr style=\"text-align: right;\">\n",
       "      <th></th>\n",
       "      <th>Rating</th>\n",
       "    </tr>\n",
       "  </thead>\n",
       "  <tbody>\n",
       "    <tr>\n",
       "      <th>count</th>\n",
       "      <td>89.000000</td>\n",
       "    </tr>\n",
       "    <tr>\n",
       "      <th>mean</th>\n",
       "      <td>156.112360</td>\n",
       "    </tr>\n",
       "    <tr>\n",
       "      <th>std</th>\n",
       "      <td>196.122436</td>\n",
       "    </tr>\n",
       "    <tr>\n",
       "      <th>min</th>\n",
       "      <td>2.000000</td>\n",
       "    </tr>\n",
       "    <tr>\n",
       "      <th>25%</th>\n",
       "      <td>34.000000</td>\n",
       "    </tr>\n",
       "    <tr>\n",
       "      <th>50%</th>\n",
       "      <td>86.000000</td>\n",
       "    </tr>\n",
       "    <tr>\n",
       "      <th>75%</th>\n",
       "      <td>187.000000</td>\n",
       "    </tr>\n",
       "    <tr>\n",
       "      <th>max</th>\n",
       "      <td>851.000000</td>\n",
       "    </tr>\n",
       "  </tbody>\n",
       "</table>\n",
       "</div>"
      ],
      "text/plain": [
       "           Rating\n",
       "count   89.000000\n",
       "mean   156.112360\n",
       "std    196.122436\n",
       "min      2.000000\n",
       "25%     34.000000\n",
       "50%     86.000000\n",
       "75%    187.000000\n",
       "max    851.000000"
      ]
     },
     "execution_count": 84,
     "metadata": {},
     "output_type": "execute_result"
    }
   ],
   "source": [
    "number_ratings_per_product.describe()"
   ]
  },
  {
   "cell_type": "markdown",
   "metadata": {},
   "source": [
    "Although most products have enough reviews, lets remove those with less than 34 reviews\n",
    "- ARBITRARY DECISION = using 1st quartile as min"
   ]
  },
  {
   "cell_type": "code",
   "execution_count": 85,
   "metadata": {},
   "outputs": [],
   "source": [
    "# Remove all products that have less than 9 reviews (below median)\n",
    "q1 = number_ratings_per_product['Rating'].quantile(0.25)\n",
    "subset_first_quartiles = number_ratings_per_product[number_ratings_per_product['Rating'] >= q1]\n",
    "\n",
    "\n",
    "plus34_reviews_sauces_and_snacks = reviews_sauces_and_snacks[reviews_sauces_and_snacks['Product_name'].isin(subset_first_quartiles['Product_name'])]"
   ]
  },
  {
   "cell_type": "code",
   "execution_count": 86,
   "metadata": {},
   "outputs": [
    {
     "name": "stdout",
     "output_type": "stream",
     "text": [
      "Length of Amazon Reviews: 13894       \n",
      "Length of Amazon Reviews with > 34 reviews: 13577\n"
     ]
    }
   ],
   "source": [
    "print(f'Length of Amazon Reviews: {len(reviews_sauces_and_snacks)} \\\n",
    "      \\nLength of Amazon Reviews with > 34 reviews: {len(plus34_reviews_sauces_and_snacks)}')"
   ]
  },
  {
   "cell_type": "code",
   "execution_count": 87,
   "metadata": {},
   "outputs": [],
   "source": [
    "# Testing if it worked\n",
    "#       post_number_ratings_per_product = amazon_reviews_more_than_8_reviews.groupby('product_name')['Rating'].count().reset_index()\n",
    "#       post_number_ratings_per_product.describe()"
   ]
  },
  {
   "cell_type": "markdown",
   "metadata": {},
   "source": [
    "## Ratings Analysis"
   ]
  },
  {
   "cell_type": "markdown",
   "metadata": {},
   "source": [
    "### Avg Rating per Product\n",
    "Only 300 ish reviews filtered out, so say fuck it and use all of them?"
   ]
  },
  {
   "cell_type": "code",
   "execution_count": 88,
   "metadata": {},
   "outputs": [
    {
     "name": "stdout",
     "output_type": "stream",
     "text": [
      "<class 'pandas.core.frame.DataFrame'>\n",
      "RangeIndex: 89 entries, 0 to 88\n",
      "Data columns (total 2 columns):\n",
      " #   Column        Non-Null Count  Dtype   \n",
      "---  ------        --------------  -----   \n",
      " 0   Product_name  89 non-null     category\n",
      " 1   Rating        89 non-null     float64 \n",
      "dtypes: category(1), float64(1)\n",
      "memory usage: 3.7 KB\n"
     ]
    }
   ],
   "source": [
    "avg_rating_per_product = reviews_sauces_and_snacks.groupby('Product_name')['Rating'].mean().reset_index()\n",
    "avg_rating_per_product['Product_name'] = avg_rating_per_product['Product_name'].astype('category')\n",
    "avg_rating_per_product.info()\n"
   ]
  },
  {
   "cell_type": "code",
   "execution_count": 89,
   "metadata": {},
   "outputs": [],
   "source": [
    "# Sort the values by 'Rating' in increasing order\n",
    "avg_rating_per_product_sorted = avg_rating_per_product.sort_values(by='Rating')"
   ]
  },
  {
   "cell_type": "code",
   "execution_count": 90,
   "metadata": {},
   "outputs": [
    {
     "name": "stderr",
     "output_type": "stream",
     "text": [
      "/var/folders/bs/7jrmr7lx3qgdc1wgj87n85wc0000gn/T/ipykernel_75046/308182343.py:3: FutureWarning: \n",
      "\n",
      "Passing `palette` without assigning `hue` is deprecated and will be removed in v0.14.0. Assign the `x` variable to `hue` and set `legend=False` for the same effect.\n",
      "\n",
      "  sns.barplot(x='Product_name', y='Rating', data=avg_rating_per_product_sorted,\n"
     ]
    },
    {
     "data": {
      "image/png": "[encoded data removed]",
      "text/plain": [
       "<Figure size 1000x600 with 1 Axes>"
      ]
     },
     "metadata": {},
     "output_type": "display_data"
    }
   ],
   "source": [
    "\n",
    "# Create the plot\n",
    "plt.figure(figsize=(10, 6))\n",
    "sns.barplot(x='Product_name', y='Rating', data=avg_rating_per_product_sorted,\n",
    "            order=avg_rating_per_product.sort_values('Rating')['Product_name'], palette='viridis')\n",
    "plt.xlabel('Product Name')\n",
    "plt.ylabel('Average Rating')\n",
    "plt.title('Average Rating per Product')\n",
    "plt.xticks([])  \n",
    "plt.tight_layout()\n",
    "plt.show()"
   ]
  },
  {
   "cell_type": "code",
   "execution_count": 91,
   "metadata": {},
   "outputs": [
    {
     "data": {
      "text/html": [
       "<div>\n",
       "<style scoped>\n",
       "    .dataframe tbody tr th:only-of-type {\n",
       "        vertical-align: middle;\n",
       "    }\n",
       "\n",
       "    .dataframe tbody tr th {\n",
       "        vertical-align: top;\n",
       "    }\n",
       "\n",
       "    .dataframe thead th {\n",
       "        text-align: right;\n",
       "    }\n",
       "</style>\n",
       "<table border=\"1\" class=\"dataframe\">\n",
       "  <thead>\n",
       "    <tr style=\"text-align: right;\">\n",
       "      <th></th>\n",
       "      <th>Product_name</th>\n",
       "      <th>Rating</th>\n",
       "    </tr>\n",
       "  </thead>\n",
       "  <tbody>\n",
       "    <tr>\n",
       "      <th>29</th>\n",
       "      <td>Knorr  Vollkorn Pasta Snack Spinat &amp; Käse leck...</td>\n",
       "      <td>1.500000</td>\n",
       "    </tr>\n",
       "    <tr>\n",
       "      <th>78</th>\n",
       "      <td>Knorr Taste the World Reis Snack Chili con Car...</td>\n",
       "      <td>2.027778</td>\n",
       "    </tr>\n",
       "    <tr>\n",
       "      <th>77</th>\n",
       "      <td>Knorr Taste the World Pasta Snack Mac &amp; Cheese...</td>\n",
       "      <td>2.959459</td>\n",
       "    </tr>\n",
       "    <tr>\n",
       "      <th>74</th>\n",
       "      <td>Knorr Sweety Milchreis mit Vanillegeschmack, 58 g</td>\n",
       "      <td>3.093023</td>\n",
       "    </tr>\n",
       "    <tr>\n",
       "      <th>41</th>\n",
       "      <td>Knorr Asia Noodles Instant Nudeln Huhn-Geschma...</td>\n",
       "      <td>3.261905</td>\n",
       "    </tr>\n",
       "    <tr>\n",
       "      <th>63</th>\n",
       "      <td>Knorr Soße nach Art Hollandaise 3x0,25l 3x250ml</td>\n",
       "      <td>3.333333</td>\n",
       "    </tr>\n",
       "    <tr>\n",
       "      <th>44</th>\n",
       "      <td>Knorr Asia Snack Tom Kha Gai Noodles 1 Portion...</td>\n",
       "      <td>3.352941</td>\n",
       "    </tr>\n",
       "    <tr>\n",
       "      <th>38</th>\n",
       "      <td>Knorr Asia Noodles Instant Nudeln Curry-Geschm...</td>\n",
       "      <td>3.365854</td>\n",
       "    </tr>\n",
       "    <tr>\n",
       "      <th>43</th>\n",
       "      <td>Knorr Asia Snack Green Curry Noodles 1 Portion...</td>\n",
       "      <td>3.400000</td>\n",
       "    </tr>\n",
       "    <tr>\n",
       "      <th>39</th>\n",
       "      <td>Knorr Asia Noodles Instant Nudeln Duck Taste l...</td>\n",
       "      <td>3.478947</td>\n",
       "    </tr>\n",
       "    <tr>\n",
       "      <th>80</th>\n",
       "      <td>Knorr Tomaten Soße 3 x 250 ml 3x750ml</td>\n",
       "      <td>4.428571</td>\n",
       "    </tr>\n",
       "    <tr>\n",
       "      <th>1</th>\n",
       "      <td>Knorr  Big Pot Pasta Snack Käse &amp; Sahne lecker...</td>\n",
       "      <td>4.441176</td>\n",
       "    </tr>\n",
       "    <tr>\n",
       "      <th>27</th>\n",
       "      <td>Knorr  Sauce Pur Sauce zu Braten   112 g 1 Stück</td>\n",
       "      <td>4.461538</td>\n",
       "    </tr>\n",
       "    <tr>\n",
       "      <th>64</th>\n",
       "      <td>Knorr Spaghetteria Funghi 150g 150g</td>\n",
       "      <td>4.465116</td>\n",
       "    </tr>\n",
       "    <tr>\n",
       "      <th>81</th>\n",
       "      <td>Knorr Tomaten Soße 3 x 250 ml, 15er-Pack</td>\n",
       "      <td>4.500000</td>\n",
       "    </tr>\n",
       "    <tr>\n",
       "      <th>87</th>\n",
       "      <td>Knorr Zitrone Butter Sauce (frischer Zitroneng...</td>\n",
       "      <td>4.516129</td>\n",
       "    </tr>\n",
       "    <tr>\n",
       "      <th>84</th>\n",
       "      <td>Knorr Tomato al Gusto Nudelsosse All' Arrabbia...</td>\n",
       "      <td>4.627660</td>\n",
       "    </tr>\n",
       "    <tr>\n",
       "      <th>85</th>\n",
       "      <td>Knorr Tomato al Gusto Nudelsosse Basilikum   3...</td>\n",
       "      <td>4.674157</td>\n",
       "    </tr>\n",
       "    <tr>\n",
       "      <th>54</th>\n",
       "      <td>Knorr Pfeffer Sauce 1 kg, 1er Pack (1 x 1 kg)</td>\n",
       "      <td>4.756757</td>\n",
       "    </tr>\n",
       "    <tr>\n",
       "      <th>52</th>\n",
       "      <td>Knorr Knorr Tomato al Gusto Napoli 500 g, 500 g</td>\n",
       "      <td>5.000000</td>\n",
       "    </tr>\n",
       "  </tbody>\n",
       "</table>\n",
       "</div>"
      ],
      "text/plain": [
       "                                         Product_name    Rating\n",
       "29  Knorr  Vollkorn Pasta Snack Spinat & Käse leck...  1.500000\n",
       "78  Knorr Taste the World Reis Snack Chili con Car...  2.027778\n",
       "77  Knorr Taste the World Pasta Snack Mac & Cheese...  2.959459\n",
       "74  Knorr Sweety Milchreis mit Vanillegeschmack, 58 g  3.093023\n",
       "41  Knorr Asia Noodles Instant Nudeln Huhn-Geschma...  3.261905\n",
       "63    Knorr Soße nach Art Hollandaise 3x0,25l 3x250ml  3.333333\n",
       "44  Knorr Asia Snack Tom Kha Gai Noodles 1 Portion...  3.352941\n",
       "38  Knorr Asia Noodles Instant Nudeln Curry-Geschm...  3.365854\n",
       "43  Knorr Asia Snack Green Curry Noodles 1 Portion...  3.400000\n",
       "39  Knorr Asia Noodles Instant Nudeln Duck Taste l...  3.478947\n",
       "80              Knorr Tomaten Soße 3 x 250 ml 3x750ml  4.428571\n",
       "1   Knorr  Big Pot Pasta Snack Käse & Sahne lecker...  4.441176\n",
       "27   Knorr  Sauce Pur Sauce zu Braten   112 g 1 Stück  4.461538\n",
       "64                Knorr Spaghetteria Funghi 150g 150g  4.465116\n",
       "81           Knorr Tomaten Soße 3 x 250 ml, 15er-Pack  4.500000\n",
       "87  Knorr Zitrone Butter Sauce (frischer Zitroneng...  4.516129\n",
       "84  Knorr Tomato al Gusto Nudelsosse All' Arrabbia...  4.627660\n",
       "85  Knorr Tomato al Gusto Nudelsosse Basilikum   3...  4.674157\n",
       "54      Knorr Pfeffer Sauce 1 kg, 1er Pack (1 x 1 kg)  4.756757\n",
       "52    Knorr Knorr Tomato al Gusto Napoli 500 g, 500 g  5.000000"
      ]
     },
     "execution_count": 91,
     "metadata": {},
     "output_type": "execute_result"
    }
   ],
   "source": [
    "# Filter only the most extreme rating cases\n",
    "avg_rating_per_product_sorted_filtered = pd.concat([avg_rating_per_product_sorted.head(10), avg_rating_per_product_sorted.tail(10)])\n",
    "avg_rating_per_product_sorted_filtered"
   ]
  },
  {
   "cell_type": "code",
   "execution_count": 104,
   "metadata": {},
   "outputs": [
    {
     "name": "stderr",
     "output_type": "stream",
     "text": [
      "/var/folders/bs/7jrmr7lx3qgdc1wgj87n85wc0000gn/T/ipykernel_75046/4174754317.py:9: FutureWarning: \n",
      "\n",
      "Passing `palette` without assigning `hue` is deprecated and will be removed in v0.14.0. Assign the `x` variable to `hue` and set `legend=False` for the same effect.\n",
      "\n",
      "  sns.barplot(x='Product_name', y='Rating', data=avg_rating_per_product_sorted_filtered,\n"
     ]
    },
    {
     "data": {
      "image/png": "[encoded data removed]",
      "text/plain": [
       "<Figure size 1000x600 with 1 Axes>"
      ]
     },
     "metadata": {},
     "output_type": "display_data"
    }
   ],
   "source": [
    "# Convert 'Product_name' to string\n",
    "avg_rating_per_product_sorted_filtered['Product_name'] = avg_rating_per_product_sorted_filtered['Product_name'].astype(str)\n",
    "\n",
    "# Truncate product names to first 20 letters for readability\n",
    "avg_rating_per_product_sorted_filtered['Product_name'] = avg_rating_per_product_sorted_filtered['Product_name'].apply(lambda x: ' '.join(x.split()[:4]))\n",
    "\n",
    "# Create the plot\n",
    "plt.figure(figsize=(10, 6))\n",
    "sns.barplot(x='Product_name', y='Rating', data=avg_rating_per_product_sorted_filtered,\n",
    "            order=avg_rating_per_product_sorted_filtered.sort_values('Rating')['Product_name'], palette='viridis')\n",
    "plt.xlabel('Product Name')\n",
    "plt.ylabel('Average Rating')\n",
    "plt.title('Average Rating per Product')\n",
    "plt.xticks(rotation=45, ha='right', fontsize=8)  # Rotate x-axis labels for better readability\n",
    "plt.tight_layout()\n",
    "plt.show()"
   ]
  },
  {
   "cell_type": "markdown",
   "metadata": {},
   "source": [
    "### Proportion of 1 and 5 Star Ratings per Product"
   ]
  },
  {
   "cell_type": "code",
   "execution_count": 93,
   "metadata": {},
   "outputs": [],
   "source": [
    "# Find percent of ratings that are 1s and percent that are 5s\n",
    "def finding_proportion_of_ones(group):\n",
    "    count_ratings = len(group)\n",
    "    count_ones = len(group[group['Rating'] == 1.0])\n",
    "    \n",
    "    proportion_ones = count_ones / count_ratings * 100\n",
    "    return proportion_ones\n",
    "\n",
    "def finding_proportion_of_fives(group):\n",
    "    count_ratings = len(group)\n",
    "    count_fives = len(group[group['Rating'] == 5.0])\n",
    "    \n",
    "    proportion_fives = count_fives / count_ratings * 100\n",
    "    return proportion_fives\n"
   ]
  },
  {
   "cell_type": "code",
   "execution_count": 94,
   "metadata": {},
   "outputs": [],
   "source": [
    "proportional_ratings_per_product_ones = plus34_reviews_sauces_and_snacks.groupby('Product_name').apply(finding_proportion_of_ones).reset_index()\n",
    "proportional_ratings_per_product_fives = plus34_reviews_sauces_and_snacks.groupby('Product_name').apply(finding_proportion_of_fives).reset_index()\n",
    "proportional_ratings_per_product = pd.merge(proportional_ratings_per_product_ones,proportional_ratings_per_product_fives, \\\n",
    "                                            on ='Product_name', how = 'inner')\n",
    "proportional_ratings_per_product.columns = [['Product_name','Proportion of 1s','Proportion of 5s']]"
   ]
  },
  {
   "cell_type": "code",
   "execution_count": 95,
   "metadata": {},
   "outputs": [
    {
     "data": {
      "text/html": [
       "<div>\n",
       "<style scoped>\n",
       "    .dataframe tbody tr th:only-of-type {\n",
       "        vertical-align: middle;\n",
       "    }\n",
       "\n",
       "    .dataframe tbody tr th {\n",
       "        vertical-align: top;\n",
       "    }\n",
       "\n",
       "    .dataframe thead tr th {\n",
       "        text-align: left;\n",
       "    }\n",
       "</style>\n",
       "<table border=\"1\" class=\"dataframe\">\n",
       "  <thead>\n",
       "    <tr>\n",
       "      <th></th>\n",
       "      <th>Product_name</th>\n",
       "      <th>Proportion of 1s</th>\n",
       "      <th>Proportion of 5s</th>\n",
       "    </tr>\n",
       "  </thead>\n",
       "  <tbody>\n",
       "    <tr>\n",
       "      <th>0</th>\n",
       "      <td>Knorr  Big Pot Pasta Snack Bolognese leckere I...</td>\n",
       "      <td>4.081633</td>\n",
       "      <td>42.857143</td>\n",
       "    </tr>\n",
       "    <tr>\n",
       "      <th>1</th>\n",
       "      <td>Knorr  Big Pot Pasta Snack Käse &amp; Sahne lecker...</td>\n",
       "      <td>2.941176</td>\n",
       "      <td>61.764706</td>\n",
       "    </tr>\n",
       "    <tr>\n",
       "      <th>2</th>\n",
       "      <td>Knorr  Feinschmecker Champignon Sauce cremige ...</td>\n",
       "      <td>6.666667</td>\n",
       "      <td>60.833333</td>\n",
       "    </tr>\n",
       "    <tr>\n",
       "      <th>3</th>\n",
       "      <td>Knorr  Kartoffel Snack Fleischbällchen &amp; Röstz...</td>\n",
       "      <td>5.610561</td>\n",
       "      <td>59.075908</td>\n",
       "    </tr>\n",
       "    <tr>\n",
       "      <th>4</th>\n",
       "      <td>Knorr  Kartoffel Snack Speck &amp; Zwiebeln lecker...</td>\n",
       "      <td>6.542056</td>\n",
       "      <td>57.009346</td>\n",
       "    </tr>\n",
       "    <tr>\n",
       "      <th>5</th>\n",
       "      <td>Knorr  Pasta Snack Creamy Pesto leckere Instan...</td>\n",
       "      <td>14.285714</td>\n",
       "      <td>50.310559</td>\n",
       "    </tr>\n",
       "    <tr>\n",
       "      <th>6</th>\n",
       "      <td>Knorr  Pasta Snack Pilz &amp; Rahm leckere Instant...</td>\n",
       "      <td>13.698630</td>\n",
       "      <td>43.639922</td>\n",
       "    </tr>\n",
       "    <tr>\n",
       "      <th>7</th>\n",
       "      <td>Knorr  Pasta Snack Pot Bolognese leckere Insta...</td>\n",
       "      <td>13.372093</td>\n",
       "      <td>48.837209</td>\n",
       "    </tr>\n",
       "    <tr>\n",
       "      <th>8</th>\n",
       "      <td>Knorr  Pasta Snack Pot Bolognese leckere Insta...</td>\n",
       "      <td>8.333333</td>\n",
       "      <td>47.222222</td>\n",
       "    </tr>\n",
       "    <tr>\n",
       "      <th>9</th>\n",
       "      <td>Knorr  Pasta Snack Pot Brokkoli &amp; Käse leckere...</td>\n",
       "      <td>13.218391</td>\n",
       "      <td>50.574713</td>\n",
       "    </tr>\n",
       "  </tbody>\n",
       "</table>\n",
       "</div>"
      ],
      "text/plain": [
       "                                        Product_name Proportion of 1s  \\\n",
       "0  Knorr  Big Pot Pasta Snack Bolognese leckere I...         4.081633   \n",
       "1  Knorr  Big Pot Pasta Snack Käse & Sahne lecker...         2.941176   \n",
       "2  Knorr  Feinschmecker Champignon Sauce cremige ...         6.666667   \n",
       "3  Knorr  Kartoffel Snack Fleischbällchen & Röstz...         5.610561   \n",
       "4  Knorr  Kartoffel Snack Speck & Zwiebeln lecker...         6.542056   \n",
       "5  Knorr  Pasta Snack Creamy Pesto leckere Instan...        14.285714   \n",
       "6  Knorr  Pasta Snack Pilz & Rahm leckere Instant...        13.698630   \n",
       "7  Knorr  Pasta Snack Pot Bolognese leckere Insta...        13.372093   \n",
       "8  Knorr  Pasta Snack Pot Bolognese leckere Insta...         8.333333   \n",
       "9  Knorr  Pasta Snack Pot Brokkoli & Käse leckere...        13.218391   \n",
       "\n",
       "  Proportion of 5s  \n",
       "0        42.857143  \n",
       "1        61.764706  \n",
       "2        60.833333  \n",
       "3        59.075908  \n",
       "4        57.009346  \n",
       "5        50.310559  \n",
       "6        43.639922  \n",
       "7        48.837209  \n",
       "8        47.222222  \n",
       "9        50.574713  "
      ]
     },
     "execution_count": 95,
     "metadata": {},
     "output_type": "execute_result"
    }
   ],
   "source": [
    "proportional_ratings_per_product.head(10)"
   ]
  },
  {
   "cell_type": "markdown",
   "metadata": {},
   "source": []
  },
  {
   "cell_type": "code",
   "execution_count": 107,
   "metadata": {},
   "outputs": [
    {
     "ename": "TypeError",
     "evalue": "the dtypes of parameters x (<U163) and width (float64) are incompatible",
     "output_type": "error",
     "traceback": [
      "\u001b[0;31m---------------------------------------------------------------------------\u001b[0m",
      "\u001b[0;31mUFuncTypeError\u001b[0m                            Traceback (most recent call last)",
      "File \u001b[0;32m/Library/Frameworks/Python.framework/Versions/3.10/lib/python3.10/site-packages/matplotlib/axes/_axes.py:2498\u001b[0m, in \u001b[0;36mAxes.bar\u001b[0;34m(self, x, height, width, bottom, align, **kwargs)\u001b[0m\n\u001b[1;32m   2497\u001b[0m \u001b[39mtry\u001b[39;00m:\n\u001b[0;32m-> 2498\u001b[0m     left \u001b[39m=\u001b[39m x \u001b[39m-\u001b[39;49m width \u001b[39m/\u001b[39;49m \u001b[39m2\u001b[39;49m\n\u001b[1;32m   2499\u001b[0m \u001b[39mexcept\u001b[39;00m \u001b[39mTypeError\u001b[39;00m \u001b[39mas\u001b[39;00m e:\n",
      "\u001b[0;31mUFuncTypeError\u001b[0m: ufunc 'subtract' did not contain a loop with signature matching types (dtype('<U163'), dtype('float64')) -> None",
      "\nThe above exception was the direct cause of the following exception:\n",
      "\u001b[0;31mTypeError\u001b[0m                                 Traceback (most recent call last)",
      "Cell \u001b[0;32mIn[107], line 16\u001b[0m\n\u001b[1;32m     13\u001b[0m r \u001b[39m=\u001b[39m \u001b[39mrange\u001b[39m(\u001b[39mlen\u001b[39m(proportional_ratings_per_product))\n\u001b[1;32m     15\u001b[0m \u001b[39m# Plot the bars for 'Proportion of 1s'\u001b[39;00m\n\u001b[0;32m---> 16\u001b[0m plt\u001b[39m.\u001b[39;49mbar(product_names, prop_1s, color\u001b[39m=\u001b[39;49m\u001b[39m'\u001b[39;49m\u001b[39mskyblue\u001b[39;49m\u001b[39m'\u001b[39;49m, edgecolor\u001b[39m=\u001b[39;49m\u001b[39m'\u001b[39;49m\u001b[39mwhite\u001b[39;49m\u001b[39m'\u001b[39;49m, width\u001b[39m=\u001b[39;49mbarWidth, label\u001b[39m=\u001b[39;49m\u001b[39m'\u001b[39;49m\u001b[39mProportion of 1s\u001b[39;49m\u001b[39m'\u001b[39;49m)\n\u001b[1;32m     18\u001b[0m \u001b[39m# Plot the bars for 'Proportion of 5s', starting from the top of 'Proportion of 1s' bars\u001b[39;00m\n\u001b[1;32m     19\u001b[0m plt\u001b[39m.\u001b[39mbar(product_names, prop_5s, bottom\u001b[39m=\u001b[39mprop_1s, color\u001b[39m=\u001b[39m\u001b[39m'\u001b[39m\u001b[39morange\u001b[39m\u001b[39m'\u001b[39m, edgecolor\u001b[39m=\u001b[39m\u001b[39m'\u001b[39m\u001b[39mwhite\u001b[39m\u001b[39m'\u001b[39m, width\u001b[39m=\u001b[39mbarWidth, label\u001b[39m=\u001b[39m\u001b[39m'\u001b[39m\u001b[39mProportion of 5s\u001b[39m\u001b[39m'\u001b[39m)\n",
      "File \u001b[0;32m/Library/Frameworks/Python.framework/Versions/3.10/lib/python3.10/site-packages/matplotlib/pyplot.py:2739\u001b[0m, in \u001b[0;36mbar\u001b[0;34m(x, height, width, bottom, align, data, **kwargs)\u001b[0m\n\u001b[1;32m   2728\u001b[0m \u001b[39m@_copy_docstring_and_deprecators\u001b[39m(Axes\u001b[39m.\u001b[39mbar)\n\u001b[1;32m   2729\u001b[0m \u001b[39mdef\u001b[39;00m \u001b[39mbar\u001b[39m(\n\u001b[1;32m   2730\u001b[0m     x: \u001b[39mfloat\u001b[39m \u001b[39m|\u001b[39m ArrayLike,\n\u001b[0;32m   (...)\u001b[0m\n\u001b[1;32m   2737\u001b[0m     \u001b[39m*\u001b[39m\u001b[39m*\u001b[39mkwargs,\n\u001b[1;32m   2738\u001b[0m ) \u001b[39m-\u001b[39m\u001b[39m>\u001b[39m BarContainer:\n\u001b[0;32m-> 2739\u001b[0m     \u001b[39mreturn\u001b[39;00m gca()\u001b[39m.\u001b[39;49mbar(\n\u001b[1;32m   2740\u001b[0m         x,\n\u001b[1;32m   2741\u001b[0m         height,\n\u001b[1;32m   2742\u001b[0m         width\u001b[39m=\u001b[39;49mwidth,\n\u001b[1;32m   2743\u001b[0m         bottom\u001b[39m=\u001b[39;49mbottom,\n\u001b[1;32m   2744\u001b[0m         align\u001b[39m=\u001b[39;49malign,\n\u001b[1;32m   2745\u001b[0m         \u001b[39m*\u001b[39;49m\u001b[39m*\u001b[39;49m({\u001b[39m\"\u001b[39;49m\u001b[39mdata\u001b[39;49m\u001b[39m\"\u001b[39;49m: data} \u001b[39mif\u001b[39;49;00m data \u001b[39mis\u001b[39;49;00m \u001b[39mnot\u001b[39;49;00m \u001b[39mNone\u001b[39;49;00m \u001b[39melse\u001b[39;49;00m {}),\n\u001b[1;32m   2746\u001b[0m         \u001b[39m*\u001b[39;49m\u001b[39m*\u001b[39;49mkwargs,\n\u001b[1;32m   2747\u001b[0m     )\n",
      "File \u001b[0;32m/Library/Frameworks/Python.framework/Versions/3.10/lib/python3.10/site-packages/matplotlib/__init__.py:1465\u001b[0m, in \u001b[0;36m_preprocess_data.<locals>.inner\u001b[0;34m(ax, data, *args, **kwargs)\u001b[0m\n\u001b[1;32m   1462\u001b[0m \u001b[39m@functools\u001b[39m\u001b[39m.\u001b[39mwraps(func)\n\u001b[1;32m   1463\u001b[0m \u001b[39mdef\u001b[39;00m \u001b[39minner\u001b[39m(ax, \u001b[39m*\u001b[39margs, data\u001b[39m=\u001b[39m\u001b[39mNone\u001b[39;00m, \u001b[39m*\u001b[39m\u001b[39m*\u001b[39mkwargs):\n\u001b[1;32m   1464\u001b[0m     \u001b[39mif\u001b[39;00m data \u001b[39mis\u001b[39;00m \u001b[39mNone\u001b[39;00m:\n\u001b[0;32m-> 1465\u001b[0m         \u001b[39mreturn\u001b[39;00m func(ax, \u001b[39m*\u001b[39;49m\u001b[39mmap\u001b[39;49m(sanitize_sequence, args), \u001b[39m*\u001b[39;49m\u001b[39m*\u001b[39;49mkwargs)\n\u001b[1;32m   1467\u001b[0m     bound \u001b[39m=\u001b[39m new_sig\u001b[39m.\u001b[39mbind(ax, \u001b[39m*\u001b[39margs, \u001b[39m*\u001b[39m\u001b[39m*\u001b[39mkwargs)\n\u001b[1;32m   1468\u001b[0m     auto_label \u001b[39m=\u001b[39m (bound\u001b[39m.\u001b[39marguments\u001b[39m.\u001b[39mget(label_namer)\n\u001b[1;32m   1469\u001b[0m                   \u001b[39mor\u001b[39;00m bound\u001b[39m.\u001b[39mkwargs\u001b[39m.\u001b[39mget(label_namer))\n",
      "File \u001b[0;32m/Library/Frameworks/Python.framework/Versions/3.10/lib/python3.10/site-packages/matplotlib/axes/_axes.py:2500\u001b[0m, in \u001b[0;36mAxes.bar\u001b[0;34m(self, x, height, width, bottom, align, **kwargs)\u001b[0m\n\u001b[1;32m   2498\u001b[0m         left \u001b[39m=\u001b[39m x \u001b[39m-\u001b[39m width \u001b[39m/\u001b[39m \u001b[39m2\u001b[39m\n\u001b[1;32m   2499\u001b[0m     \u001b[39mexcept\u001b[39;00m \u001b[39mTypeError\u001b[39;00m \u001b[39mas\u001b[39;00m e:\n\u001b[0;32m-> 2500\u001b[0m         \u001b[39mraise\u001b[39;00m \u001b[39mTypeError\u001b[39;00m(\u001b[39mf\u001b[39m\u001b[39m'\u001b[39m\u001b[39mthe dtypes of parameters x (\u001b[39m\u001b[39m{\u001b[39;00mx\u001b[39m.\u001b[39mdtype\u001b[39m}\u001b[39;00m\u001b[39m) \u001b[39m\u001b[39m'\u001b[39m\n\u001b[1;32m   2501\u001b[0m                         \u001b[39mf\u001b[39m\u001b[39m'\u001b[39m\u001b[39mand width (\u001b[39m\u001b[39m{\u001b[39;00mwidth\u001b[39m.\u001b[39mdtype\u001b[39m}\u001b[39;00m\u001b[39m) \u001b[39m\u001b[39m'\u001b[39m\n\u001b[1;32m   2502\u001b[0m                         \u001b[39mf\u001b[39m\u001b[39m'\u001b[39m\u001b[39mare incompatible\u001b[39m\u001b[39m'\u001b[39m) \u001b[39mfrom\u001b[39;00m \u001b[39me\u001b[39;00m\n\u001b[1;32m   2503\u001b[0m     bottom \u001b[39m=\u001b[39m y\n\u001b[1;32m   2504\u001b[0m \u001b[39melse\u001b[39;00m:  \u001b[39m# horizontal\u001b[39;00m\n",
      "\u001b[0;31mTypeError\u001b[0m: the dtypes of parameters x (<U163) and width (float64) are incompatible"
     ]
    },
    {
     "data": {
      "image/png": "[encoded data removed]",
      "text/plain": [
       "<Figure size 1000x600 with 1 Axes>"
      ]
     },
     "metadata": {},
     "output_type": "display_data"
    }
   ],
   "source": [
    "#Truncate product names for readability\n",
    "\n",
    "# Convert to lists for plotting\n",
    "product_names = proportional_ratings_per_product['Product_name'].values.tolist()\n",
    "prop_1s = proportional_ratings_per_product['Proportion of 1s'].values.tolist()\n",
    "prop_5s = proportional_ratings_per_product['Proportion of 5s'].values.tolist()\n",
    "\n",
    "# Create the plot\n",
    "plt.figure(figsize=(10, 6))\n",
    "\n",
    "# Stacked bar chart\n",
    "barWidth = 0.35\n",
    "r = range(len(proportional_ratings_per_product))\n",
    "\n",
    "# Plot the bars for 'Proportion of 1s'\n",
    "plt.bar(product_names, prop_1s, color='skyblue', edgecolor='white', width=barWidth, label='Proportion of 1s')\n",
    "\n",
    "# Plot the bars for 'Proportion of 5s', starting from the top of 'Proportion of 1s' bars\n",
    "plt.bar(product_names, prop_5s, bottom=prop_1s, color='orange', edgecolor='white', width=barWidth, label='Proportion of 5s')\n",
    "\n",
    "# Add labels, title, and legend\n",
    "plt.xlabel('Product Name', fontsize=12)\n",
    "plt.ylabel('Proportion', fontsize=12)\n",
    "plt.title('Proportion of Ratings per Product', fontsize=14)\n",
    "plt.xticks(rotation=45, ha='right', fontsize=10)\n",
    "plt.legend()\n",
    "\n",
    "plt.tight_layout()\n",
    "plt.show()"
   ]
  },
  {
   "cell_type": "code",
   "execution_count": null,
   "metadata": {},
   "outputs": [],
   "source": []
  }
 ],
 "metadata": {
  "kernelspec": {
   "display_name": "Python 3",
   "language": "python",
   "name": "python3"
  },
  "language_info": {
   "codemirror_mode": {
    "name": "ipython",
    "version": 3
   },
   "file_extension": ".py",
   "mimetype": "text/x-python",
   "name": "python",
   "nbconvert_exporter": "python",
   "pygments_lexer": "ipython3",
   "version": "3.10.10"
  },
  "orig_nbformat": 4
 },
 "nbformat": 4,
 "nbformat_minor": 2
}
